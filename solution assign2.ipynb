{
 "cells": [
  {
   "cell_type": "code",
   "execution_count": null,
   "id": "b60d48bc-39f6-4a2e-bf49-0188c3d28139",
   "metadata": {},
   "outputs": [
    {
     "ename": "SyntaxError",
     "evalue": "invalid syntax (2259261866.py, line 2)",
     "output_type": "error",
     "traceback": [
      "\u001b[0;36m  Cell \u001b[0;32mIn[1], line 2\u001b[0;36m\u001b[0m\n\u001b[0;31m    Ans.To comment any code in python we have two methods.\u001b[0m\n\u001b[0m           ^\u001b[0m\n\u001b[0;31mSyntaxError\u001b[0m\u001b[0;31m:\u001b[0m invalid syntax\n"
     ]
    }
   ],
   "source": [
    "Q1. How do you comment code in Python? What are the different types of comments?\n",
    "Ans.To comment any code in python we have two methods.\n",
    "    type # in front of the code which you want comment.\n",
    "    type \"\"\" to comment your code \"\"\".\n",
    "    Ther are two types of comment one is single and anothe is multi line comment."
   ]
  },
  {
   "cell_type": "code",
   "execution_count": 2,
   "id": "c8ba5611-6806-4ef9-b31f-3ee9aa19a376",
   "metadata": {},
   "outputs": [
    {
     "ename": "SyntaxError",
     "evalue": "invalid syntax (3397658699.py, line 2)",
     "output_type": "error",
     "traceback": [
      "\u001b[0;36m  Cell \u001b[0;32mIn[2], line 2\u001b[0;36m\u001b[0m\n\u001b[0;31m    Ans.veriables are generaly like a container in which we store our data.\u001b[0m\n\u001b[0m                  ^\u001b[0m\n\u001b[0;31mSyntaxError\u001b[0m\u001b[0;31m:\u001b[0m invalid syntax\n"
     ]
    }
   ],
   "source": [
    "Q2. What are variables in Python? How do you declare and assign values to variables?\n",
    "Ans.veriables are generaly like a container in which we store our data.\n",
    "    we will assign data to any veriable as follo\n",
    "    a = 5\n",
    "    a =\"rahul\"\n",
    "    and etc."
   ]
  },
  {
   "cell_type": "code",
   "execution_count": null,
   "id": "f2cd93a8-1123-4c3e-8dcc-de2d474f4a4b",
   "metadata": {},
   "outputs": [],
   "source": [
    "Q3. How do you convert one data type to another in Python?\n",
    "Ans. a = 5\n",
    "     str(a)"
   ]
  },
  {
   "cell_type": "code",
   "execution_count": null,
   "id": "87df790e-f579-4019-9c8f-ffd8feea8e73",
   "metadata": {},
   "outputs": [],
   "source": []
  },
  {
   "cell_type": "code",
   "execution_count": null,
   "id": "77f6266a-bf79-482e-a59c-ed1627dcd0af",
   "metadata": {},
   "outputs": [],
   "source": [
    "Q5. Given a list my_list = [1, 2, 3, 4, 5], write the code to slice the list and obtain the sub-list [2, 3]."
   ]
  },
  {
   "cell_type": "code",
   "execution_count": 5,
   "id": "3d0925ff-bb00-4215-875c-585668779586",
   "metadata": {},
   "outputs": [
    {
     "name": "stdout",
     "output_type": "stream",
     "text": [
      "1\n",
      "2\n",
      "3\n",
      "4\n",
      "5\n"
     ]
    }
   ],
   "source": [
    "my_list = [1, 2, 3, 4, 5]\n",
    "for i in my_list :\n",
    "    print(i)"
   ]
  },
  {
   "cell_type": "code",
   "execution_count": 6,
   "id": "9b64246d-34d4-4c26-a34f-143b3ee57c6f",
   "metadata": {},
   "outputs": [
    {
     "name": "stdout",
     "output_type": "stream",
     "text": [
      "[2, 3]\n"
     ]
    }
   ],
   "source": [
    "my_list = [1, 2, 3, 4, 5]\n",
    "sub_list = []\n",
    "for i in my_list :\n",
    "    if 1< i < 4 :\n",
    "        sub_list.append(i)\n",
    "print(sub_list)        \n",
    "        "
   ]
  },
  {
   "cell_type": "code",
   "execution_count": null,
   "id": "b216cd9f-5577-4d91-a573-f4f479601c8e",
   "metadata": {},
   "outputs": [],
   "source": []
  },
  {
   "cell_type": "code",
   "execution_count": null,
   "id": "1c9390d1-9e66-44ba-b564-152570ea0941",
   "metadata": {},
   "outputs": [],
   "source": [
    "Q6. What is a complex number in mathematics, and how is it represented in Python?\n",
    "Ans.Complex number is a part of number systen in which real number and imaginarynumber both lies\n",
    "    in python we represent complex number like this: 5 + 6j."
   ]
  },
  {
   "cell_type": "code",
   "execution_count": null,
   "id": "bbfeb88a-774e-4284-b2d0-d357af332f19",
   "metadata": {},
   "outputs": [],
   "source": []
  },
  {
   "cell_type": "code",
   "execution_count": null,
   "id": "67c3de3a-a1c1-4755-b3ca-42b780a6adb9",
   "metadata": {},
   "outputs": [],
   "source": [
    "Q7. What is the correct way to declare a variable named age and assign the value 25 to it?\n",
    "age = 25 "
   ]
  },
  {
   "cell_type": "code",
   "execution_count": null,
   "id": "c99ae2de-128a-4240-9528-d11b98097fd7",
   "metadata": {},
   "outputs": [],
   "source": []
  },
  {
   "cell_type": "code",
   "execution_count": null,
   "id": "a6c0444b-00ed-4345-84d2-31f58232d10f",
   "metadata": {},
   "outputs": [],
   "source": [
    "Q8. Declare a variable named price and assign the value 9.99 to it. What data type does this variable\n",
    "belong to?\n",
    "\n",
    "price = 9.99 \n",
    "\n",
    "belong to float data type."
   ]
  },
  {
   "cell_type": "code",
   "execution_count": null,
   "id": "29f6b97a-f2ed-4acc-b6d5-2da6dc80ada8",
   "metadata": {},
   "outputs": [],
   "source": []
  },
  {
   "cell_type": "code",
   "execution_count": null,
   "id": "53ed60f5-a8a8-4fd8-9475-163356a7b820",
   "metadata": {},
   "outputs": [],
   "source": [
    "Q9. Create a variable named name and assign your full name to it as a string. How would you print the\n",
    "value of this variable?"
   ]
  },
  {
   "cell_type": "code",
   "execution_count": 7,
   "id": "bd036672-6aed-47a6-8cb3-9acba188454a",
   "metadata": {},
   "outputs": [
    {
     "name": "stdout",
     "output_type": "stream",
     "text": [
      "Aryan dhirhi\n"
     ]
    }
   ],
   "source": [
    "name = \"Aryan dhirhi\"\n",
    "print(name)"
   ]
  },
  {
   "cell_type": "code",
   "execution_count": null,
   "id": "3d3847fc-e482-4537-9b7f-b503a840a9ae",
   "metadata": {},
   "outputs": [],
   "source": []
  },
  {
   "cell_type": "code",
   "execution_count": null,
   "id": "2d56bddb-4199-45c2-ad70-88b8b1b0ed4e",
   "metadata": {},
   "outputs": [],
   "source": [
    "Q10. Given the string \"Hello, World!\", extract the substring \"World\"."
   ]
  },
  {
   "cell_type": "code",
   "execution_count": 9,
   "id": "3a897f47-8fd8-4323-8063-158e4cdb041f",
   "metadata": {},
   "outputs": [
    {
     "data": {
      "text/plain": [
       "'World'"
      ]
     },
     "execution_count": 9,
     "metadata": {},
     "output_type": "execute_result"
    }
   ],
   "source": [
    "given = \"Hello, World!\"\n",
    "given[7:12]"
   ]
  },
  {
   "cell_type": "code",
   "execution_count": null,
   "id": "eaf90ccb-91da-45fe-acca-3aedba2776a1",
   "metadata": {},
   "outputs": [],
   "source": [
    "Q11. Create a variable named \"is_student\" and assign it a boolean value indicating whether you are\n",
    "currently a student or not."
   ]
  },
  {
   "cell_type": "code",
   "execution_count": null,
   "id": "1edb63b9-627a-4b6c-ad5f-503c3f0347ba",
   "metadata": {},
   "outputs": [],
   "source": [
    "is_student = True "
   ]
  }
 ],
 "metadata": {
  "kernelspec": {
   "display_name": "Python 3 (ipykernel)",
   "language": "python",
   "name": "python3"
  },
  "language_info": {
   "codemirror_mode": {
    "name": "ipython",
    "version": 3
   },
   "file_extension": ".py",
   "mimetype": "text/x-python",
   "name": "python",
   "nbconvert_exporter": "python",
   "pygments_lexer": "ipython3",
   "version": "3.10.8"
  }
 },
 "nbformat": 4,
 "nbformat_minor": 5
}
