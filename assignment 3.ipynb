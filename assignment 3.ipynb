{
 "cells": [
  {
   "cell_type": "code",
   "execution_count": 20,
   "metadata": {},
   "outputs": [
    {
     "data": {
      "text/plain": [
       "[2, 4, 6, 8, 10, 12, 14, 16, 18, 20, 22, 24]"
      ]
     },
     "execution_count": 20,
     "metadata": {},
     "output_type": "execute_result"
    }
   ],
   "source": [
    "# Q1. Which keyword is used to create a function? Create a function to return a list of odd numbers in the\n",
    "# range of 1 to 25.\n",
    "\n",
    "#Ans - def kewor id use to create function\n",
    "def odd():\n",
    "    l1 = []\n",
    "    for i in range(1,25):\n",
    "           if i % 2 == 0:\n",
    "               l1.append(i)\n",
    "    return l1 \n",
    "\n",
    "odd()   \n",
    " "
   ]
  },
  {
   "cell_type": "code",
   "execution_count": 30,
   "metadata": {},
   "outputs": [
    {
     "name": "stdout",
     "output_type": "stream",
     "text": [
      "[1, 2, 3, 4, 5]\n",
      "(dict_keys(['a', 'b']), dict_values(['aryan', 'dhirhi']))\n"
     ]
    }
   ],
   "source": [
    "# Q2. Why *args and **kwargs is used in some functions? Create a function each for *args and **kwargs\n",
    "# to demonstrate their use.\n",
    "# Ans - *args is use to pass data to function where as **kwargs is use to pass data to function in the form   of dictionary\n",
    "\n",
    "def test(*args):\n",
    "    return list(args)\n",
    "\n",
    "print(test(1,2,3,4,5))\n",
    "\n",
    "def test(**kwargs):\n",
    "    return kwargs.keys(), kwargs.values()\n",
    "print(test(a = \"aryan\", b = \"dhirhi\"))\n",
    "    "
   ]
  },
  {
   "cell_type": "code",
   "execution_count": 42,
   "metadata": {},
   "outputs": [
    {
     "name": "stdout",
     "output_type": "stream",
     "text": [
      "2\n",
      "4\n",
      "6\n",
      "8\n",
      "10\n"
     ]
    }
   ],
   "source": [
    "# Q3.  What is an iterator in python? Name the method used to initialise the iterator object and the method\n",
    "# used for iteration. Use these methods to print the first five elements of the given list [2, 4, 6, 8, 10, 12, 14, 16, 18, 20].\n",
    "\n",
    "# Ans - iterator is defined as the object or any logic which can pull data for the the deta steructure one by one, 'next()' is the method use for iteration and 'iter()' is the function to create iteratior object.\n",
    "\n",
    "l = [2, 4, 6, 8, 10, 12, 14, 16, 18, 20]\n",
    "i = 0\n",
    "iter_l = iter(l)\n",
    "while i < 5:\n",
    "    print(next(iter_l))\n",
    "    i +=1"
   ]
  },
  {
   "cell_type": "code",
   "execution_count": 50,
   "metadata": {},
   "outputs": [
    {
     "name": "stdout",
     "output_type": "stream",
     "text": [
      "0\n",
      "1\n",
      "1\n",
      "2\n",
      "3\n",
      "5\n",
      "8\n",
      "13\n",
      "21\n",
      "34\n"
     ]
    }
   ],
   "source": [
    "# Q4.  What is a generator function in python? Why yield keyword is used? Give an example of a generator function.\n",
    "\n",
    "#Ans - Genterator function is a typem of function which generates data one by one and through out the data one by one bye the keywor 'yield'. 'yield' keyword is use to create generator function it generates data through out that data one by one.\n",
    "\n",
    "def fib(n):\n",
    "    a,b = 0,1\n",
    "    for i in range(n):\n",
    "        yield a\n",
    "        a,b = b,a+b \n",
    "res = fib(10)\n",
    "\n",
    "for j in res:\n",
    "    print(j)"
   ]
  }
 ],
 "metadata": {
  "kernelspec": {
   "display_name": "Python 3",
   "language": "python",
   "name": "python3"
  },
  "language_info": {
   "codemirror_mode": {
    "name": "ipython",
    "version": 3
   },
   "file_extension": ".py",
   "mimetype": "text/x-python",
   "name": "python",
   "nbconvert_exporter": "python",
   "pygments_lexer": "ipython3",
   "version": "3.12.6"
  }
 },
 "nbformat": 4,
 "nbformat_minor": 2
}
