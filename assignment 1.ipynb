{
 "cells": [
  {
   "cell_type": "code",
   "execution_count": 2,
   "id": "76592c4a-49e4-4f69-b337-f353385d3620",
   "metadata": {},
   "outputs": [],
   "source": [
    "# Q1. What is Statistics?\n",
    "# Ans - Satistics is the subes in which we study about the data ow in other \n",
    "#       words statistics is the science of colleting, summarising, organising and analysing the data"
   ]
  },
  {
   "cell_type": "code",
   "execution_count": 4,
   "id": "3f2c710c-d7e7-4ccc-ba2a-1ed520186afe",
   "metadata": {},
   "outputs": [],
   "source": [
    "# Q2. Define the different types of statistics and give an example of when each type might be used.\n",
    "#  Ans - There are two types of statistics-\n",
    "        # 1.) Descriptive statistics \n",
    "        #     It consist of orginising and summarzing the data \n",
    "#         2.) Infriential statistics\n",
    "#             It consist of using data you have measure to form conclusion"
   ]
  },
  {
   "cell_type": "code",
   "execution_count": null,
   "id": "ca1ae937-2eb1-4074-98e3-2ffca4a43fb8",
   "metadata": {},
   "outputs": [],
   "source": [
    "# Q3. What are the different types of data and how do they differ from each other? Provide an example of\n",
    "# each type of data.\n",
    "# Ans - There are two types of data- \n",
    "#       1.) Quantitative Data\n",
    "#           This type of datas are generaly numerical type.\n",
    "#           Qualitative data type is further divided in 2 types-\n",
    "#           i) Discrit \n",
    "#              Ex. Whole number, integer.\n",
    "#           ii) Continuous\n",
    "#               Ex. Any number like 1, 2.3, 3.4 etc.\n",
    "            \n",
    "#       2.) Qualitative Data\n",
    "#           This type of datas are generaly Catogrical type.\n",
    "#           Qualitative data type is further divided in 2 types-\n",
    "#           i) Nominal(No rank)\n",
    "#              Ex. Male, Female, Blood group etc. \n",
    "#           ii) Ordinal(Rank)\n",
    "#               Ex. Customers feedback\n",
    "        "
   ]
  },
  {
   "cell_type": "code",
   "execution_count": null,
   "id": "66762ad0-0d96-47df-a7ce-c4495896acd2",
   "metadata": {},
   "outputs": [],
   "source": [
    "# Q4. Categorise the following datasets with respect to quantitative and qualitative data types:\n",
    "# (i) Grading in exam: A+, A, B+, B, C+, C, D, E\n",
    "# (ii) Colour of mangoes: yellow, green, orange, red\n",
    "# (iii) Height data of a class: [178.9, 179, 179.5, 176, 177.2, 178.3, 175.8,...]\n",
    "# (iv) Number of mangoes exported by a farm: [500, 600, 478, 672, ...]\n",
    "# Ans -  (i) Grading in exam: A+, A, B+, B, C+, C, D, E - Qualitative Data \n",
    "#        (ii) Colour of mangoes: yellow, green, orange, red - Qualitative Data\n",
    "#        (iii) Height data of a class: [178.9, 179, 179.5, 176, 177.2, 178.3, 175.8,...] - Quantitative Data\n",
    "#        (iv) Number of mangoes exported by a farm: [500, 600, 478, 672, ...] - Quantitative Data"
   ]
  },
  {
   "cell_type": "code",
   "execution_count": null,
   "id": "9bf8d086-5494-4422-9f6d-55d5b5aa2816",
   "metadata": {},
   "outputs": [],
   "source": [
    "# Q5. Explain the concept of levels of measurement and give an example of a variable for each level.\n",
    "# Ans -levels/Scale of measurement\n",
    "#       1.) Noninal scale data-\n",
    "#           i) Qualitative\n",
    "#           ii) Order dosn't matter\n",
    "#           Ex. Gender, colors, labels\n",
    "\n",
    "#       2.) Ordinal scale data- \n",
    "#           i) Ranking\n",
    "#           ii) Order\n",
    "#           iii) Difference Can't be masure\n",
    "#           Ex. Good Best bad\n",
    "\n",
    "#       3.) Interval scale data\n",
    "#           i) Ther order matters \n",
    "#           ii) Difference can br measure\n",
    "#           iii) Ratio can't be measure \n",
    "#           iv) No True '0' startin g point\n",
    "#           Ex. Temperature variable. \n",
    "\n",
    "#       4.) Ratio scale data.\n",
    "#           i) Order matters\n",
    "#           ii) Difference re measerable\n",
    "#           iii) Including ratio.\n",
    "#           iv) True starting(0) point"
   ]
  },
  {
   "cell_type": "code",
   "execution_count": 14,
   "id": "bddf6257-c96f-450b-81a2-e782179f62ac",
   "metadata": {},
   "outputs": [],
   "source": [
    "# Q6. Why is it important to understand the level of measurement when analyzing data? Provide an\n",
    "# example to illustrate your answer.\n",
    "# Ans - "
   ]
  },
  {
   "cell_type": "code",
   "execution_count": null,
   "id": "c710a5f6-cc13-43d7-bf2f-5307c01f23d1",
   "metadata": {},
   "outputs": [],
   "source": [
    "# Q7. How nominal data type is different from ordinal data type.\n",
    "# Ans - Nominal Data type is the catogrical data type but in this there is no meaning of ranking\n",
    "#         Ex. Male, Female, Blood group etc.\n",
    "#       Ordinal data type is also catogrical data type but in this the ranks matters\n",
    "#         Ex. Good Best Bad."
   ]
  },
  {
   "cell_type": "code",
   "execution_count": null,
   "id": "94dfaac3-c3b0-4cdf-9fad-172afb2557fc",
   "metadata": {},
   "outputs": [],
   "source": [
    "# Q8. Which type of plot can be used to display data in terms of range?\n",
    "# Ans - "
   ]
  },
  {
   "cell_type": "code",
   "execution_count": null,
   "id": "cf111bd4-aa66-4f2b-813a-e4ec26685f98",
   "metadata": {},
   "outputs": [],
   "source": [
    "# Q9. Describe the difference between descriptive and inferential statistics. Give an example of each\n",
    "# type of statistics and explain how they are used.\n",
    "# Ans - Discriptive statistics-\n",
    "#           It consist of orginising and summarzing the data.\n",
    "#           It is used by find the centeral tandency of data(Mean, median, mode),\n",
    "#           Despersion or sprade of data(Veriance, Standered deviantion), type of distribution of data.\n",
    "#           Ex - Finding then Average hight of the students to in the class.\n",
    "            \n",
    "#       Infriential statistics\n",
    "#           It consist of using data you have measure to form conclusion\n",
    "#           It is used to find the conclusion  of the population data by the analysing the sample data.\n",
    "#           Ex - Finding then hight of the students to in the class and analysing the data to know the hight\n",
    "#                of students of the whole school."
   ]
  },
  {
   "cell_type": "code",
   "execution_count": null,
   "id": "b49ca041-7407-4ce4-a619-c34bbcbecbb2",
   "metadata": {},
   "outputs": [],
   "source": [
    "# Q10. What are some common measures of central tendency and variability used in statistics? Explain\n",
    "# how each measure can be used to describe a dataset.\n",
    "# Ans - Measure of centeral tendency- \n",
    "#      1.) Mean\n",
    "#          Mean is the average of the data we have, it is the center point of the data means \n",
    "#          all the data will near this point.\n",
    "#      2.) Median\n",
    "#          Median is also average of the data but it uses when we have the outliers in the data set. \n",
    "#      3.) Mode\n",
    "#          Mode is the nothing but the frequency of the reaccurance of the data means how many time a singule\n",
    "#          data is repeating in the data set."
   ]
  },
  {
   "cell_type": "code",
   "execution_count": null,
   "id": "1707de6a-c6ea-4c4a-aae8-b221c400a308",
   "metadata": {},
   "outputs": [],
   "source": []
  }
 ],
 "metadata": {
  "kernelspec": {
   "display_name": "Python 3 (ipykernel)",
   "language": "python",
   "name": "python3"
  },
  "language_info": {
   "codemirror_mode": {
    "name": "ipython",
    "version": 3
   },
   "file_extension": ".py",
   "mimetype": "text/x-python",
   "name": "python",
   "nbconvert_exporter": "python",
   "pygments_lexer": "ipython3",
   "version": "3.10.8"
  }
 },
 "nbformat": 4,
 "nbformat_minor": 5
}
