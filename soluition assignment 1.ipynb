{
 "cells": [
  {
   "cell_type": "code",
   "execution_count": null,
   "id": "16a002ac-eac6-4e99-bfe6-605bd0205af3",
   "metadata": {},
   "outputs": [],
   "source": [
    "  Q1. Create one variable containing following type of data:\n",
    "\n",
    "(i)\tstring\n",
    "\n",
    "(ii)\tlist\n",
    "\n",
    "(iii)\tfloat\n",
    "\n",
    "(iv)\ttuple\n",
    "\n",
    "Ans. (i)   b = \"Aryan\"\n",
    "     (ii)  c = [25, 23, 5, \"aryan\", \"subham\", 52.3 ,True]\n",
    "     (iii) d = 23.56\n",
    "     (iv)  e = (25, 23, 5, \"aryan\", \"subham\", 52.3 ,True) "
   ]
  },
  {
   "cell_type": "code",
   "execution_count": null,
   "id": "e444a7fa-c977-4fb8-ac76-a685755a14fc",
   "metadata": {},
   "outputs": [],
   "source": []
  },
  {
   "cell_type": "code",
   "execution_count": 8,
   "id": "185f61b9-271a-40d5-bb52-2f4c76a431af",
   "metadata": {},
   "outputs": [
    {
     "name": "stdout",
     "output_type": "stream",
     "text": [
      "<class 'str'>\n",
      "<class 'str'>\n",
      "<class 'list'>\n",
      "<class 'float'>\n"
     ]
    }
   ],
   "source": [
    "\"\"\"Q2. Given are some following variables containing data:\n",
    "\n",
    "(i)\tvar1 = ‘ ‘\n",
    "\n",
    "(ii)\tvar2 = ‘[ DS , ML , Python]’\n",
    "\n",
    "(iii)\tvar3 = [ ‘DS’ , ’ML’ , ‘Python’ ]\n",
    "\n",
    "(iv)\tvar4 = 1.\n",
    "    What will be the data type of the above given variable.\n",
    "\n",
    "Ans.\"\"\" \n",
    "var1 = ''\n",
    "var2 = '[ DS , ML , Python]'\n",
    "var3 = [ 'DS' , 'ML' , 'Python']\n",
    "var4 = 1.\n",
    "print(type(var1))\n",
    "print(type(var2))\n",
    "print(type(var3))\n",
    "print(type(var4))"
   ]
  },
  {
   "cell_type": "code",
   "execution_count": null,
   "id": "285b0584-3d03-40eb-94da-8d38d0c670d2",
   "metadata": {},
   "outputs": [],
   "source": []
  },
  {
   "cell_type": "code",
   "execution_count": 13,
   "id": "8905064c-b460-46da-8808-2734338c6334",
   "metadata": {},
   "outputs": [
    {
     "name": "stdout",
     "output_type": "stream",
     "text": [
      "2.0\n",
      "2\n",
      "1\n",
      "25\n"
     ]
    }
   ],
   "source": [
    "'''Q3. Explain the use of the following operators using an example:'''\n",
    "\n",
    "#Division operator under arithemetic operator which is use to simpali divide numbers\n",
    "a = 10/5 \n",
    "print(a)\n",
    "#(ii)\t%  = modulas operator which gives remender after dividing any numbers\n",
    "b = 5%3\n",
    "print(b)\n",
    "##(iii)\t// = flor which giver only intiger of the quotient after dividing\n",
    "c = 5//3\n",
    "print(c)\n",
    "#(iv)\t** = index which helps to calculate the value of any number of any power\n",
    "d = 5 **2\n",
    "print(d)"
   ]
  },
  {
   "cell_type": "code",
   "execution_count": 15,
   "id": "0537caf3-ea0c-46e1-baf1-b963521588f5",
   "metadata": {},
   "outputs": [
    {
     "name": "stdout",
     "output_type": "stream",
     "text": [
      "5\n",
      "<class 'int'>\n",
      "23.5\n",
      "<class 'float'>\n",
      "aryan\n",
      "<class 'str'>\n",
      "sudh_sir\n",
      "<class 'str'>\n",
      "True\n",
      "<class 'bool'>\n",
      "[52, 5, 6, 23]\n",
      "<class 'list'>\n",
      "('aryan', 52, 36)\n",
      "<class 'tuple'>\n",
      "{1, 2, 3.4, 5}\n",
      "<class 'set'>\n",
      "{'alphs': 'high', 'omega': 'low'}\n",
      "<class 'dict'>\n",
      "pwskkills\n",
      "<class 'str'>\n",
      "No. of elements in list = 10\n"
     ]
    }
   ],
   "source": [
    "'''Q4. Create a list of length 10 of your choice containing multiple types of data. Using for loop print the\n",
    "element and its data type.'''\n",
    "x = [5,23.5,\"aryan\",\"sudh_sir\",True, [52,5,6,23],(\"aryan\",52,36,),{1,2,3.4,5,}, {\"alphs\":\"high\", \"omega\":\"low\"}, \"pwskkills\"]\n",
    "for i in x:\n",
    "    print(i)\n",
    "    print(type(i))\n",
    "print(\"No. of elements in list =\",len(x))   "
   ]
  },
  {
   "cell_type": "code",
   "execution_count": null,
   "id": "5da781fa-5ce1-435b-a9bf-98da4c6b8f12",
   "metadata": {},
   "outputs": [],
   "source": []
  },
  {
   "cell_type": "code",
   "execution_count": 16,
   "id": "0153674f-0f68-4f4d-96f4-48c7d313afba",
   "metadata": {},
   "outputs": [
    {
     "name": "stdin",
     "output_type": "stream",
     "text": [
      " 1000\n",
      " 2\n"
     ]
    },
    {
     "name": "stdout",
     "output_type": "stream",
     "text": [
      "Yes A is divisible by B \n",
      "and it is 3 times divisible by B \n"
     ]
    }
   ],
   "source": [
    "'''Q5. Using a while loop, verify if the number A is purely divisible by number B and if so then how many\n",
    "times it can be divisible.'''\n",
    "A = int(input())\n",
    "B = int(input())\n",
    "\n",
    "if A % B ==0:\n",
    "    print(\"Yes A is divisible by B \")\n",
    "    Num1 = A/B\n",
    "    l1 = [A,]\n",
    "    \n",
    "    while Num1 % B == 0:\n",
    "        l1.append(Num1)\n",
    "        Num1 = Num1/B\n",
    "\n",
    "    print(\"and it is\",len(l1),\"times divisible by B \") \n",
    "    \n",
    "else :\n",
    "    print(\"A is not divisible by B\")\n",
    "    "
   ]
  },
  {
   "cell_type": "code",
   "execution_count": null,
   "id": "4fea8cb2-46b7-454c-8384-dff453695018",
   "metadata": {},
   "outputs": [],
   "source": []
  },
  {
   "cell_type": "code",
   "execution_count": 17,
   "id": "496d574f-ec1f-4283-b9d8-c32655b561ae",
   "metadata": {},
   "outputs": [
    {
     "name": "stdout",
     "output_type": "stream",
     "text": [
      "3 is divisible by 3\n",
      "25 is not divisible by 3\n",
      "16 is not divisible by 3\n",
      "24 is divisible by 3\n",
      "26 is not divisible by 3\n",
      "488 is not divisible by 3\n",
      "256 is not divisible by 3\n",
      "248 is not divisible by 3\n",
      "2665 is not divisible by 3\n",
      "232 is not divisible by 3\n",
      "14 is not divisible by 3\n",
      "25 is not divisible by 3\n",
      "26 is not divisible by 3\n",
      "248 is not divisible by 3\n",
      "209 is not divisible by 3\n",
      "2564 is not divisible by 3\n",
      "2458 is not divisible by 3\n",
      "458 is not divisible by 3\n",
      "2265 is divisible by 3\n",
      "125 is not divisible by 3\n",
      "32 is not divisible by 3\n",
      "33 is divisible by 3\n",
      "26 is not divisible by 3\n",
      "48 is divisible by 3\n",
      "69 is divisible by 3\n"
     ]
    }
   ],
   "source": [
    "'''Q6. Create a list containing 25 int type data. Using for loop and if-else condition print if the element is\n",
    "divisible by 3 or not.'''\n",
    "f = [3,25,16,24,26,488,256,248,2665,232,14,25,26,248,209,2564,2458,458,2265,125,32,33,26,48,69]\n",
    "for j in f:\n",
    "    if j%3 == 0:\n",
    "        print(j,\"is divisible by 3\")\n",
    "    else:\n",
    "        print(j,\"is not divisible by 3\")\n",
    "        "
   ]
  },
  {
   "cell_type": "code",
   "execution_count": null,
   "id": "c671acc8-5613-49b2-b11c-a44e14800b7e",
   "metadata": {},
   "outputs": [],
   "source": [
    "'''Q7. What do you understand about mutable and immutable data types? Give examples for both showing\n",
    "this property.'''\n",
    "'''Ans- Mutable data type means the data which can be change in same index without assigning to any other variable\n",
    "and Immutable data type means the data which can not be change in same index.'''\n",
    "#Mutable Data type\n",
    "l = [5,3,8,1,\"aryan\"]\n",
    "\n",
    "#Immutable Data type\n",
    "g = \"aryan\"\n",
    "t = (56,58,23,22,6,45,'aryan')"
   ]
  }
 ],
 "metadata": {
  "kernelspec": {
   "display_name": "Python 3 (ipykernel)",
   "language": "python",
   "name": "python3"
  },
  "language_info": {
   "codemirror_mode": {
    "name": "ipython",
    "version": 3
   },
   "file_extension": ".py",
   "mimetype": "text/x-python",
   "name": "python",
   "nbconvert_exporter": "python",
   "pygments_lexer": "ipython3",
   "version": "3.10.8"
  }
 },
 "nbformat": 4,
 "nbformat_minor": 5
}
